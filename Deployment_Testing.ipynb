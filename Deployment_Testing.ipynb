{
 "cells": [
  {
   "cell_type": "code",
   "execution_count": 1,
   "id": "backed-knitting",
   "metadata": {},
   "outputs": [],
   "source": [
    "import pandas as pd\n",
    "pd.options.display.float_format = '{:,.4f}'.format\n",
    "import requests\n",
    "\n",
    "%config Completer.use_jedi = False"
   ]
  },
  {
   "cell_type": "markdown",
   "id": "computational-moldova",
   "metadata": {},
   "source": [
    "#### Step 1: Read and Prepare Data"
   ]
  },
  {
   "cell_type": "code",
   "execution_count": 2,
   "id": "fitting-crest",
   "metadata": {},
   "outputs": [],
   "source": [
    "data = pd.read_csv('cleveland.csv')\n",
    "\n",
    "my_filter = data['diagnosis'] == 0\n",
    "data.loc[my_filter, 'heart_disease'] = 0\n",
    "data.loc[~my_filter, 'heart_disease'] = 1\n",
    "data = data.drop(columns = ['diagnosis'])\n",
    "data.columns = [col.replace(' ', '_') for col in data.columns]\n",
    "\n",
    "for col in data.columns:\n",
    "    data[col] = pd.to_numeric(data[col], errors = 'coerce')\n",
    "    data[col] = data[col].fillna(data[col].median())"
   ]
  },
  {
   "cell_type": "markdown",
   "id": "specialized-bridges",
   "metadata": {},
   "source": [
    "#### Step 2: Make Requests to Deployed HTTP Endpoints"
   ]
  },
  {
   "cell_type": "code",
   "execution_count": 3,
   "id": "earned-transition",
   "metadata": {},
   "outputs": [],
   "source": [
    "neural_url = 'http://127.0.0.1:5000/neural'\n",
    "adaboost_url = 'http://127.0.0.1:5000/adaboost'"
   ]
  },
  {
   "cell_type": "code",
   "execution_count": 4,
   "id": "mysterious-lawyer",
   "metadata": {},
   "outputs": [],
   "source": [
    "features = [\n",
    "    'age', \n",
    "    'sex', \n",
    "    'chest_pain', \n",
    "    'blood_pressure', \n",
    "    'serum_cholestoral',\n",
    "    'fasting_blood_sugar', \n",
    "    'electrocardiographic', \n",
    "    'max_heart_rate',\n",
    "    'induced_angina', \n",
    "    'ST_depression', \n",
    "    'slope', \n",
    "    'vessels', \n",
    "    'thal',\n",
    "]"
   ]
  },
  {
   "cell_type": "code",
   "execution_count": 5,
   "id": "turned-specification",
   "metadata": {},
   "outputs": [
    {
     "data": {
      "text/plain": [
       "{'age': 45.0,\n",
       " 'sex': 1.0,\n",
       " 'chest_pain': 4.0,\n",
       " 'blood_pressure': 115.0,\n",
       " 'serum_cholestoral': 260.0,\n",
       " 'fasting_blood_sugar': 0.0,\n",
       " 'electrocardiographic': 2.0,\n",
       " 'max_heart_rate': 185.0,\n",
       " 'induced_angina': 0.0,\n",
       " 'ST_depression': 0.0,\n",
       " 'slope': 1.0,\n",
       " 'vessels': 0.0,\n",
       " 'thal': 3.0}"
      ]
     },
     "execution_count": 5,
     "metadata": {},
     "output_type": "execute_result"
    }
   ],
   "source": [
    "index = 100\n",
    "data_dict = data.loc[index, features].to_dict()\n",
    "data_dict"
   ]
  },
  {
   "cell_type": "code",
   "execution_count": 6,
   "id": "invalid-wilson",
   "metadata": {},
   "outputs": [
    {
     "name": "stdout",
     "output_type": "stream",
     "text": [
      "100: NN -> 0, Ada -> 0\n"
     ]
    }
   ],
   "source": [
    "response = requests.post(neural_url, json = data_dict)\n",
    "nn_prediction = response.json()\n",
    "\n",
    "response = requests.post(adaboost_url, json = data_dict)\n",
    "ab_prediction = response.json()\n",
    "\n",
    "print(f'{index}: NN -> {nn_prediction}, Ada -> {ab_prediction}')   "
   ]
  }
 ],
 "metadata": {
  "kernelspec": {
   "display_name": "Python 3",
   "language": "python",
   "name": "python3"
  },
  "language_info": {
   "codemirror_mode": {
    "name": "ipython",
    "version": 3
   },
   "file_extension": ".py",
   "mimetype": "text/x-python",
   "name": "python",
   "nbconvert_exporter": "python",
   "pygments_lexer": "ipython3",
   "version": "3.8.5"
  }
 },
 "nbformat": 4,
 "nbformat_minor": 5
}
