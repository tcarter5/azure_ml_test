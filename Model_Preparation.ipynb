{
 "cells": [
  {
   "cell_type": "code",
   "execution_count": 1,
   "id": "bright-hundred",
   "metadata": {},
   "outputs": [],
   "source": [
    "import json\n",
    "import pickle\n",
    "\n",
    "from keras.models import Sequential, load_model\n",
    "from keras.layers import Dense, Dropout\n",
    "import numpy as np\n",
    "import pandas as pd\n",
    "pd.options.display.float_format = '{:,.4f}'.format\n",
    "import tensorflow as tf\n",
    "from sklearn.model_selection import train_test_split\n",
    "from sklearn import preprocessing\n",
    "from sklearn.ensemble import AdaBoostClassifier\n",
    "\n",
    "%config Completer.use_jedi = False"
   ]
  },
  {
   "cell_type": "markdown",
   "id": "excessive-manitoba",
   "metadata": {},
   "source": [
    "#### Step 1: Read and Prepare Data"
   ]
  },
  {
   "cell_type": "code",
   "execution_count": 2,
   "id": "critical-pierre",
   "metadata": {},
   "outputs": [],
   "source": [
    "data = pd.read_csv('cleveland.csv')\n",
    "\n",
    "my_filter = data['diagnosis'] == 0\n",
    "data.loc[my_filter, 'heart_disease'] = 0\n",
    "data.loc[~my_filter, 'heart_disease'] = 1\n",
    "data = data.drop(columns = ['diagnosis'])\n",
    "data.columns = [col.replace(' ', '_') for col in data.columns]\n",
    "\n",
    "for col in data.columns:\n",
    "    data[col] = pd.to_numeric(data[col], errors = 'coerce')\n",
    "    data[col] = data[col].fillna(data[col].median())"
   ]
  },
  {
   "cell_type": "markdown",
   "id": "impressive-costa",
   "metadata": {},
   "source": [
    "#### Step 2: Perform Feature Engineering to Transform Data Into Format Suitable for ML. **SAVE STEPS FOR LATER!!!**"
   ]
  },
  {
   "cell_type": "code",
   "execution_count": 3,
   "id": "trained-system",
   "metadata": {},
   "outputs": [],
   "source": [
    "features = [\n",
    "    'age', \n",
    "    'sex', \n",
    "    'chest_pain', \n",
    "    'blood_pressure', \n",
    "    'serum_cholestoral',\n",
    "    'fasting_blood_sugar', \n",
    "    'electrocardiographic', \n",
    "    'max_heart_rate',\n",
    "    'induced_angina', \n",
    "    'ST_depression', \n",
    "    'slope', \n",
    "    'vessels', \n",
    "    'thal',\n",
    "]\n",
    "\n",
    "target = 'heart_disease'\n",
    "\n",
    "scaler = preprocessing.StandardScaler()\n",
    "scaled_data = scaler.fit(data[features])\n",
    "scaled_data = scaler.fit_transform(data[features])\n",
    "scaled_data = pd.DataFrame(scaled_data, columns = features)\n",
    "scaled_data[target] = data[target]\n",
    "\n",
    "scaler_means = {key: val for key, val in zip(features, scaler.mean_)}\n",
    "scaler_sigmas = {key: val for key, val in zip(features, scaler.scale_)}\n",
    "\n",
    "with open('scaler_means.json', 'w') as fout: \n",
    "    json.dump(scaler_means, fout)\n",
    "    \n",
    "with open('scaler_sigmas.json', 'w') as fout: \n",
    "    json.dump(scaler_sigmas, fout)"
   ]
  },
  {
   "cell_type": "markdown",
   "id": "hybrid-platinum",
   "metadata": {},
   "source": [
    "#### Step 3: Fit and Save Model(s)"
   ]
  },
  {
   "cell_type": "code",
   "execution_count": 4,
   "id": "appreciated-indian",
   "metadata": {},
   "outputs": [],
   "source": [
    "train, test = train_test_split(scaled_data, stratify = scaled_data[target], random_state = 0)\n",
    "x_train, y_train = train[features], train[target]\n",
    "x_test, y_test = test[features], test[target]"
   ]
  },
  {
   "cell_type": "code",
   "execution_count": 5,
   "id": "tired-mission",
   "metadata": {},
   "outputs": [],
   "source": [
    "adaboost_params = {\n",
    "    'learning_rate': 0.01, \n",
    "    'n_estimators': 100,\n",
    "}\n",
    "\n",
    "clf = AdaBoostClassifier(random_state = 0, **adaboost_params)\n",
    "clf = clf.fit(x_train, y_train)\n",
    "with open('adaboost.pkl', 'wb') as f:\n",
    "    pickle.dump(clf, f)"
   ]
  },
  {
   "cell_type": "code",
   "execution_count": 6,
   "id": "cross-barbados",
   "metadata": {},
   "outputs": [
    {
     "name": "stdout",
     "output_type": "stream",
     "text": [
      "WARNING:tensorflow:From C:\\Users\\tyron\\anaconda3\\envs\\ml_env\\lib\\site-packages\\tensorflow\\python\\training\\tracking\\tracking.py:111: Model.state_updates (from tensorflow.python.keras.engine.training) is deprecated and will be removed in a future version.\n",
      "Instructions for updating:\n",
      "This property should not be used in TensorFlow 2.0, as updates are applied automatically.\n",
      "WARNING:tensorflow:From C:\\Users\\tyron\\anaconda3\\envs\\ml_env\\lib\\site-packages\\tensorflow\\python\\training\\tracking\\tracking.py:111: Layer.updates (from tensorflow.python.keras.engine.base_layer) is deprecated and will be removed in a future version.\n",
      "Instructions for updating:\n",
      "This property should not be used in TensorFlow 2.0, as updates are applied automatically.\n",
      "INFO:tensorflow:Assets written to: neural\\assets\n"
     ]
    }
   ],
   "source": [
    "tf.random.set_seed(0)\n",
    "\n",
    "model = Sequential()\n",
    "model.add(Dense(9, activation='relu'))\n",
    "model.add(Dropout(0.3))\n",
    "model.add(Dense(6, activation='relu'))\n",
    "model.add(Dropout(0.1))\n",
    "model.add(Dense(1, activation='sigmoid'))\n",
    "model.compile(loss = 'binary_crossentropy', \n",
    "              optimizer = 'adam', \n",
    "              metrics = ['accuracy'])\n",
    "\n",
    "X, y = train[features].values, train[target].values\n",
    "history = model.fit(X, y, \n",
    "          epochs = 100, \n",
    "          batch_size = 10, \n",
    "          verbose = 0,\n",
    "          validation_split = 0.2);\n",
    "\n",
    "model.save('neural')"
   ]
  }
 ],
 "metadata": {
  "kernelspec": {
   "display_name": "Python 3",
   "language": "python",
   "name": "python3"
  },
  "language_info": {
   "codemirror_mode": {
    "name": "ipython",
    "version": 3
   },
   "file_extension": ".py",
   "mimetype": "text/x-python",
   "name": "python",
   "nbconvert_exporter": "python",
   "pygments_lexer": "ipython3",
   "version": "3.8.5"
  }
 },
 "nbformat": 4,
 "nbformat_minor": 5
}
